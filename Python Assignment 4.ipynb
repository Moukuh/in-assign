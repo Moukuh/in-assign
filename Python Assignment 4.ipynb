{
 "cells": [
  {
   "cell_type": "markdown",
   "metadata": {},
   "source": [
    "### 1.1 Write a Python Program(with class concepts) to find the area of the triangle using the below formula.\n",
    "##### area = (s*(s-a)*(s-b)*(s-c)) ***0.5"
   ]
  },
  {
   "cell_type": "markdown",
   "metadata": {},
   "source": [
    "**Function to take the length of the sides of triangle from user should be defined in the parent\n",
    "class and function to calculate the area should be defined in subclass.**"
   ]
  },
  {
   "cell_type": "code",
   "execution_count": 1,
   "metadata": {},
   "outputs": [],
   "source": [
    "class Triangle():\n",
    "    def getSides(self):\n",
    "        self.a = int(input('1st side: '))\n",
    "        self.b = int(input('2nd side: '))\n",
    "        self.c = int(input('3rd side: '))"
   ]
  },
  {
   "cell_type": "code",
   "execution_count": 2,
   "metadata": {},
   "outputs": [],
   "source": [
    "class TriangleFunc(Triangle):\n",
    "    def __init__(self):\n",
    "        super().getSides()\n",
    "        \n",
    "    def getArea(self):\n",
    "        s = (self.a + self.b + self.c) / 2\n",
    "        aa = (s * (s - self.a) * (s - self.b) * (s - self.c)) ** 0.5\n",
    "        return f\"The area of the Triangle is: {aa}\""
   ]
  },
  {
   "cell_type": "code",
   "execution_count": 3,
   "metadata": {},
   "outputs": [
    {
     "name": "stdout",
     "output_type": "stream",
     "text": [
      "1st side: 4\n",
      "2nd side: 5\n",
      "3rd side: 6\n"
     ]
    }
   ],
   "source": [
    "a1 = TriangleFunc()"
   ]
  },
  {
   "cell_type": "code",
   "execution_count": 4,
   "metadata": {},
   "outputs": [
    {
     "data": {
      "text/plain": [
       "'The area of the Triangle is: 9.921567416492215'"
      ]
     },
     "execution_count": 4,
     "metadata": {},
     "output_type": "execute_result"
    }
   ],
   "source": [
    "a1.getArea()"
   ]
  },
  {
   "cell_type": "markdown",
   "metadata": {},
   "source": [
    "### 1.2 Write a function filter_long_words() that takes a list of words and an integer n and returns the list of words that are longer than n."
   ]
  },
  {
   "cell_type": "code",
   "execution_count": 5,
   "metadata": {},
   "outputs": [],
   "source": [
    "def filter_long_words(wrd, n):\n",
    "    return [i for i in wrd if len(i) > n]"
   ]
  },
  {
   "cell_type": "code",
   "execution_count": 6,
   "metadata": {
    "scrolled": true
   },
   "outputs": [
    {
     "data": {
      "text/plain": [
       "['Python', 'Javascript', 'Julia']"
      ]
     },
     "execution_count": 6,
     "metadata": {},
     "output_type": "execute_result"
    }
   ],
   "source": [
    "l = ['Python', 'C++', 'Java', 'Javascript', 'Julia']\n",
    "filter_long_words(l, 4)"
   ]
  },
  {
   "cell_type": "markdown",
   "metadata": {},
   "source": [
    "### 2.1 Write a Python program using function concept that maps list of words into a list of integers representing the lengths of the corresponding words.\n",
    "\n",
    "##### Hint: If a list [ ab,cde,erty] is passed on to the python function output should come as [2,3,4]\n",
    "##### Here 2,3 and 4 are the lengths of the words in the list."
   ]
  },
  {
   "cell_type": "code",
   "execution_count": 7,
   "metadata": {},
   "outputs": [
    {
     "name": "stdout",
     "output_type": "stream",
     "text": [
      "Input:  ['Python', 'C++', 'Java', 'Javascript', 'Julia']\n",
      "Output:  [6, 3, 4, 10, 5]\n"
     ]
    }
   ],
   "source": [
    "wrd = ['Python', 'C++', 'Java', 'Javascript', 'Julia']\n",
    "print('Input: ', wrd)\n",
    "def wordLength(wrd):\n",
    "    return list(map(lambda x: len(x), wrd))\n",
    "print('Output: ', wordLength(wrd))"
   ]
  },
  {
   "cell_type": "markdown",
   "metadata": {},
   "source": [
    "### 2.2 Write a Python function which takes a character (i.e. a string of length 1) and returns True if it is a vowel, False otherwise."
   ]
  },
  {
   "cell_type": "code",
   "execution_count": 8,
   "metadata": {},
   "outputs": [
    {
     "name": "stdout",
     "output_type": "stream",
     "text": [
      "Enter a character: i\n"
     ]
    },
    {
     "data": {
      "text/plain": [
       "True"
      ]
     },
     "execution_count": 8,
     "metadata": {},
     "output_type": "execute_result"
    }
   ],
   "source": [
    "def vowel(s):\n",
    "    if (s.isalpha() and len(s) == 1):\n",
    "        if (s == 'a' or s == 'e' or s == 'i' or s == 'o' or s == 'u'):\n",
    "            return True\n",
    "        else:\n",
    "            return False\n",
    "    else:\n",
    "        return f'Enter any alphabet, not {s}'\n",
    "\n",
    "s = input('Enter a character: ')\n",
    "vowel(s)"
   ]
  }
 ],
 "metadata": {
  "kernelspec": {
   "display_name": "Python 3",
   "language": "python",
   "name": "python3"
  },
  "language_info": {
   "codemirror_mode": {
    "name": "ipython",
    "version": 3
   },
   "file_extension": ".py",
   "mimetype": "text/x-python",
   "name": "python",
   "nbconvert_exporter": "python",
   "pygments_lexer": "ipython3",
   "version": "3.7.1"
  }
 },
 "nbformat": 4,
 "nbformat_minor": 2
}
